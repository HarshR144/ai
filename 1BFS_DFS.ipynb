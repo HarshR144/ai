{
 "cells": [
  {
   "cell_type": "code",
   "execution_count": null,
   "id": "6b204837-9655-46c5-a4be-345138d78605",
   "metadata": {},
   "outputs": [
    {
     "name": "stdout",
     "output_type": "stream",
     "text": [
      "Options:\n",
      "1. Create Graph\n",
      "2. BFS\n",
      "3. DFS\n",
      "4. Exit\n"
     ]
    },
    {
     "name": "stdin",
     "output_type": "stream",
     "text": [
      "Enter your choice:  1\n",
      "Enter the number of nodes:  6\n",
      "Enter node 1:  A\n",
      "Enter neighbors for node A (comma-separated, press Enter if none):  B,C\n",
      "Enter node 2:  B\n",
      "Enter neighbors for node B (comma-separated, press Enter if none):  D,E\n",
      "Enter node 3:  C\n",
      "Enter neighbors for node C (comma-separated, press Enter if none):  F\n",
      "Enter node 4:  D\n",
      "Enter neighbors for node D (comma-separated, press Enter if none):  \n",
      "Enter node 5:  E\n",
      "Enter neighbors for node E (comma-separated, press Enter if none):  \n",
      "Enter node 6:  F\n",
      "Enter neighbors for node F (comma-separated, press Enter if none):  \n"
     ]
    },
    {
     "name": "stdout",
     "output_type": "stream",
     "text": [
      "Options:\n",
      "1. Create Graph\n",
      "2. BFS\n",
      "3. DFS\n",
      "4. Exit\n"
     ]
    },
    {
     "name": "stdin",
     "output_type": "stream",
     "text": [
      "Enter your choice:  2\n",
      "Enter the starting node:  A\n"
     ]
    },
    {
     "name": "stdout",
     "output_type": "stream",
     "text": [
      "Executing BFS search\n",
      "A\n",
      "B\n",
      "C\n",
      "D\n",
      "E\n",
      "F\n",
      "Options:\n",
      "1. Create Graph\n",
      "2. BFS\n",
      "3. DFS\n",
      "4. Exit\n"
     ]
    },
    {
     "name": "stdin",
     "output_type": "stream",
     "text": [
      "Enter your choice:  3\n",
      "Enter the starting node:  A\n"
     ]
    },
    {
     "name": "stdout",
     "output_type": "stream",
     "text": [
      "Executing DFS search\n",
      "A\n",
      "B\n",
      "D\n",
      "E\n",
      "C\n",
      "F\n",
      "Options:\n",
      "1. Create Graph\n",
      "2. BFS\n",
      "3. DFS\n",
      "4. Exit\n"
     ]
    }
   ],
   "source": [
    "class Graph:\n",
    "    def __init__(self, graph):\n",
    "        self.visited = []\n",
    "        self.queue = []\n",
    "        self.graph = graph\n",
    "\n",
    "    def bfs(self, node):\n",
    "        if node not in self.visited:\n",
    "            print(node)\n",
    "            self.visited.append(node)\n",
    "        for neighbour in self.graph[node]:\n",
    "            if neighbour and neighbour not in self.visited and neighbour not in self.queue:\n",
    "                self.queue.append(neighbour) \n",
    "        if self.queue:\n",
    "            vertex = self.queue.pop(0)\n",
    "            self.bfs(vertex)\n",
    "            \n",
    "    def dfs(self,node):\n",
    "        if node not in self.visited:\n",
    "            print(node)\n",
    "            self.visited.append(node)\n",
    "            for neighbour in self.graph[node]:\n",
    "                if neighbour:\n",
    "                    self.dfs(neighbour)\n",
    "                \n",
    "def create_graph():\n",
    "    graph = {}\n",
    "    nodes = int(input(\"Enter the number of nodes: \"))\n",
    "\n",
    "    for i in range(nodes):\n",
    "        node = input(f\"Enter node {i + 1}: \")\n",
    "        neighbors = input(f\"Enter neighbors for node {node} (comma-separated, press Enter if none): \")\n",
    "        graph[node] = neighbors.split(',')\n",
    "    \n",
    "    return graph\n",
    "\n",
    "\n",
    "def main():\n",
    "    while True:\n",
    "        print(\"Options:\")\n",
    "        print(\"1. Create Graph\")\n",
    "        print(\"2. BFS\")\n",
    "        print(\"3. DFS\")\n",
    "        print(\"4. Exit\")\n",
    "        choice = input(\"Enter your choice: \")\n",
    "\n",
    "        if choice == \"1\":\n",
    "            graph = create_graph()\n",
    "        elif choice == \"2\":\n",
    "            start_node = input(\"Enter the starting node: \")\n",
    "            g = Graph(graph)\n",
    "            print(\"Executing BFS search\")\n",
    "            g.bfs(start_node)\n",
    "        elif choice == \"3\":\n",
    "            start_node = input(\"Enter the starting node: \")\n",
    "            g = Graph(graph)\n",
    "            print(\"Executing DFS search\")\n",
    "            g.dfs(start_node)\n",
    "        elif choice == \"4\":\n",
    "            print(\"Exiting...\")\n",
    "            break\n",
    "        else:\n",
    "            print(\"Invalid choice. Please enter a valid option.\")\n",
    "\n",
    "main()"
   ]
  },
  {
   "cell_type": "code",
   "execution_count": null,
   "id": "76d382b5-2ae0-42e2-bcc3-9f9d4e838745",
   "metadata": {},
   "outputs": [],
   "source": []
  }
 ],
 "metadata": {
  "kernelspec": {
   "display_name": "Python 3 (ipykernel)",
   "language": "python",
   "name": "python3"
  },
  "language_info": {
   "codemirror_mode": {
    "name": "ipython",
    "version": 3
   },
   "file_extension": ".py",
   "mimetype": "text/x-python",
   "name": "python",
   "nbconvert_exporter": "python",
   "pygments_lexer": "ipython3",
   "version": "3.11.7"
  }
 },
 "nbformat": 4,
 "nbformat_minor": 5
}
