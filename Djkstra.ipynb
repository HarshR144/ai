{
 "cells": [
  {
   "cell_type": "code",
   "execution_count": 1,
   "id": "d289159b-4c79-4b36-b3af-38b95f864033",
   "metadata": {},
   "outputs": [
    {
     "name": "stdout",
     "output_type": "stream",
     "text": [
      "Minimum Spanning Tree (Dijkstra's Algorithm): [('A', 'C', 2), ('C', 'D', 3), ('A', 'B', 4)]\n"
     ]
    }
   ],
   "source": [
    "import heapq\n",
    "\n",
    "def dijkstra_mst(graph, source):\n",
    "    mst = []\n",
    "    visited = set()\n",
    "    distances = {vertex: float('inf') for vertex in graph}\n",
    "    distances[source] = 0\n",
    "    pq = [(0, source, None)]  # (distance, vertex, parent)\n",
    "\n",
    "    while pq:\n",
    "        dist, current_vertex, parent = heapq.heappop(pq)\n",
    "        if current_vertex in visited:\n",
    "            continue\n",
    "        visited.add(current_vertex)\n",
    "        if parent is not None:\n",
    "            mst.append((parent, current_vertex, dist))\n",
    "        for neighbor, weight in graph[current_vertex].items():\n",
    "            if neighbor not in visited:\n",
    "                heapq.heappush(pq, (weight, neighbor, current_vertex))\n",
    "                distances[neighbor] = min(distances[neighbor], weight)\n",
    "\n",
    "    return mst\n",
    "\n",
    "# Example graph represented as an adjacency list\n",
    "graph = {\n",
    "    'A': {'B': 4, 'C': 2},\n",
    "    'B': {'A': 4, 'C': 5, 'D': 10},\n",
    "    'C': {'A': 2, 'B': 5, 'D': 3},\n",
    "    'D': {'B': 10, 'C': 3}\n",
    "}\n",
    "\n",
    "source_vertex = 'A'\n",
    "minimum_spanning_tree = dijkstra_mst(graph, source_vertex)\n",
    "print(\"Minimum Spanning Tree (Dijkstra's Algorithm):\", minimum_spanning_tree)"
   ]
  },
  {
   "cell_type": "code",
   "execution_count": null,
   "id": "530f151b-cab9-41f7-8f79-4d11f0501e4b",
   "metadata": {},
   "outputs": [],
   "source": []
  }
 ],
 "metadata": {
  "kernelspec": {
   "display_name": "Python 3 (ipykernel)",
   "language": "python",
   "name": "python3"
  },
  "language_info": {
   "codemirror_mode": {
    "name": "ipython",
    "version": 3
   },
   "file_extension": ".py",
   "mimetype": "text/x-python",
   "name": "python",
   "nbconvert_exporter": "python",
   "pygments_lexer": "ipython3",
   "version": "3.11.7"
  }
 },
 "nbformat": 4,
 "nbformat_minor": 5
}
