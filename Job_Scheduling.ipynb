{
 "cells": [
  {
   "cell_type": "code",
   "execution_count": null,
   "id": "483088d8-52d9-4ce7-a127-bec08befd5e9",
   "metadata": {},
   "outputs": [],
   "source": [
    "def printJobScheduling(arr, t):\n",
    "    n = len(arr)\n",
    "    arr.sort(key=lambda x: x[2], reverse=True)\n",
    "    result = [False] * t\n",
    "    job = ['-1'] * t\n",
    "    total_profit = 0\n",
    "\n",
    "    for i in range(n):\n",
    "        for j in range(min(t - 1, arr[i][1] - 1), -1, -1):\n",
    "            if not result[j]:\n",
    "                result[j] = True\n",
    "                job[j] = arr[i][0]\n",
    "                total_profit += arr[i][2]\n",
    "                break\n",
    "\n",
    "    print(\"Scheduled job sequence:\", job)\n",
    "    print(\"Maximum profit:\", total_profit)\n",
    "\n",
    "\n",
    "if __name__ == '__main__':\n",
    "    num_jobs = int(input(\"Enter the number of jobs: \"))\n",
    "    arr = []\n",
    "\n",
    "    for i in range(num_jobs):\n",
    "        job_name = input(\"Enter job name: \")\n",
    "        deadline = int(input(f\"Enter deadline for {job_name}: \"))\n",
    "        profit = int(input(f\"Enter profit for {job_name}: \"))\n",
    "        arr.append([job_name, deadline, profit])\n",
    "\n",
    "    total_slots = int(input(\"Enter the total number of time slots: \"))\n",
    "\n",
    "    print(\"Following is the maximum profit sequence of jobs\")\n",
    "    printJobScheduling(arr, total_slots)\n",
    "     \n",
    "'''\n",
    "Enter the number of jobs: 5\n",
    "Enter profit for each job:\n",
    "15 \n",
    "27\n",
    "10\n",
    "100\n",
    "150\n",
    "Enter names of each job:\n",
    "a\n",
    "b\n",
    "c\n",
    "d\n",
    "e\n",
    "Enter deadline for each job:\n",
    "2\n",
    "3\n",
    "3\n",
    "3\n",
    "4\n",
    "Jobs scheduled buddy: ['a', 'b', 'd', 'e']\n",
    "Total profit: 292'''"
   ]
  },
  {
   "cell_type": "code",
   "execution_count": null,
   "id": "2f46b931-1309-4f3e-bdfb-29446eeaf604",
   "metadata": {},
   "outputs": [],
   "source": []
  }
 ],
 "metadata": {
  "kernelspec": {
   "display_name": "Python 3 (ipykernel)",
   "language": "python",
   "name": "python3"
  },
  "language_info": {
   "codemirror_mode": {
    "name": "ipython",
    "version": 3
   },
   "file_extension": ".py",
   "mimetype": "text/x-python",
   "name": "python",
   "nbconvert_exporter": "python",
   "pygments_lexer": "ipython3",
   "version": "3.11.7"
  }
 },
 "nbformat": 4,
 "nbformat_minor": 5
}
