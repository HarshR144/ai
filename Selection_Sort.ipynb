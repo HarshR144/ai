{
 "cells": [
  {
   "cell_type": "code",
   "execution_count": 1,
   "id": "843e1c31-43b4-443d-9b36-466ace3594a5",
   "metadata": {},
   "outputs": [
    {
     "name": "stdin",
     "output_type": "stream",
     "text": [
      "Enter elements of array seperated by spaces:  A D E H S\n"
     ]
    },
    {
     "name": "stdout",
     "output_type": "stream",
     "text": [
      "Array before sorting: \n",
      "['A', 'D', 'E', 'H', 'S']\n",
      "Array after sorting: \n",
      "['A', 'D', 'E', 'H', 'S']\n"
     ]
    }
   ],
   "source": [
    "def selection_sort(arr, size):\n",
    "    for i in range(size):\n",
    "        min_idx = i\n",
    "        for j in range(i+1,size):\n",
    "            if arr[j] < arr[min_idx]:\n",
    "                min_idx = j\n",
    "        arr[min_idx],arr[i] = arr[i], arr[min_idx]\n",
    "\n",
    "def main():\n",
    "    \n",
    "    user_input = input(\"Enter elements of array seperated by spaces: \")\n",
    "    user_array = user_input.split()\n",
    "\n",
    "    array_size = len(user_array)\n",
    "    \n",
    "    # print array before sorting\n",
    "    print(\"Array before sorting: \")\n",
    "    print(user_array)\n",
    "\n",
    "    selection_sort(user_array,array_size)\n",
    "\n",
    "    # print array after sorting\n",
    "    print(\"Array after sorting: \")\n",
    "    print(user_array)\n",
    "\n",
    "main()"
   ]
  },
  {
   "cell_type": "code",
   "execution_count": 2,
   "id": "6ea11773-17b1-48ad-9f27-8cefc66b1bdd",
   "metadata": {},
   "outputs": [
    {
     "name": "stdin",
     "output_type": "stream",
     "text": [
      "Enter elements of array seperated by spaces:  8 7 6 5 4 3 2 1\n"
     ]
    },
    {
     "name": "stdout",
     "output_type": "stream",
     "text": [
      "Array before sorting: \n",
      "[8, 7, 6, 5, 4, 3, 2, 1]\n",
      "Array after sorting: \n",
      "[1, 2, 3, 4, 5, 6, 7, 8]\n"
     ]
    }
   ],
   "source": [
    "def selection_sort(arr, size):\n",
    "    for i in range(size):\n",
    "        min_idx = i\n",
    "        for j in range(i+1,size):\n",
    "            if arr[j] < arr[min_idx]:\n",
    "                min_idx = j\n",
    "        arr[min_idx],arr[i] = arr[i], arr[min_idx]\n",
    "\n",
    "def main():\n",
    "    \n",
    "    user_input = input(\"Enter elements of array seperated by spaces: \")\n",
    "    user_array = [int(x) for x in user_input.split()]\n",
    "\n",
    "    array_size = len(user_array)\n",
    "    \n",
    "    # print array before sorting\n",
    "    print(\"Array before sorting: \")\n",
    "    print(user_array)\n",
    "\n",
    "    selection_sort(user_array,array_size)\n",
    "\n",
    "    # print array after sorting\n",
    "    print(\"Array after sorting: \")\n",
    "    print(user_array)\n",
    "\n",
    "main()"
   ]
  },
  {
   "cell_type": "code",
   "execution_count": null,
   "id": "8b3e60c3-8450-468a-8d00-d6ffd92e4934",
   "metadata": {},
   "outputs": [],
   "source": []
  }
 ],
 "metadata": {
  "kernelspec": {
   "display_name": "Python 3 (ipykernel)",
   "language": "python",
   "name": "python3"
  },
  "language_info": {
   "codemirror_mode": {
    "name": "ipython",
    "version": 3
   },
   "file_extension": ".py",
   "mimetype": "text/x-python",
   "name": "python",
   "nbconvert_exporter": "python",
   "pygments_lexer": "ipython3",
   "version": "3.11.7"
  }
 },
 "nbformat": 4,
 "nbformat_minor": 5
}
